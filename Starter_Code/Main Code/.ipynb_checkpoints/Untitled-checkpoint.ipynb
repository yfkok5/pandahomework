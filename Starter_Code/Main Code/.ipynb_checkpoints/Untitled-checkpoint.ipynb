{
 "cells": [
  {
   "cell_type": "code",
   "execution_count": 171,
   "id": "58af9e67-00f6-4e1c-8c3a-569d883f6a5e",
   "metadata": {},
   "outputs": [],
   "source": [
    "#function where it counts how many times each alphabet in a string occurs\n",
    "#test"
   ]
  },
  {
   "cell_type": "code",
   "execution_count": 173,
   "id": "350ccd60-8994-45bf-8f94-d045340f7203",
   "metadata": {},
   "outputs": [],
   "source": [
    "import collections\n",
    "def count_letters(text):\n",
    "\n",
    "    return collections.Counter(text)\n"
   ]
  },
  {
   "cell_type": "code",
   "execution_count": 175,
   "id": "c7fe55df-97f4-4ef5-87b6-bc1ceefe8f38",
   "metadata": {},
   "outputs": [
    {
     "data": {
      "text/plain": [
       "Counter({'I': 1,\n",
       "         ' ': 6,\n",
       "         'a': 4,\n",
       "         'm': 1,\n",
       "         't': 5,\n",
       "         'e': 1,\n",
       "         'p': 1,\n",
       "         'o': 3,\n",
       "         ',': 1,\n",
       "         's': 2,\n",
       "         'h': 1,\n",
       "         'r': 1,\n",
       "         'n': 1,\n",
       "         'd': 1,\n",
       "         'u': 1})"
      ]
     },
     "execution_count": 175,
     "metadata": {},
     "output_type": "execute_result"
    }
   ],
   "source": [
    "a = 'examplesentence'\n",
    "\n",
    "count_letters(a)\n",
    "\n",
    "collections.Counter('I am a teapot, short and stout')"
   ]
  },
  {
   "cell_type": "code",
   "execution_count": null,
   "id": "25460c58-1217-460e-9c7b-742ea7218967",
   "metadata": {},
   "outputs": [],
   "source": []
  },
  {
   "cell_type": "code",
   "execution_count": 162,
   "id": "8df29763-70ad-4779-9ff2-83b6f009f17a",
   "metadata": {},
   "outputs": [],
   "source": [
    "letter = ['e', 'x', 'a', 'm', 'p', 'l', 'e', 's', 'e', 'n', 't', 'e', 'n', 'c', 'e']"
   ]
  },
  {
   "cell_type": "code",
   "execution_count": 165,
   "id": "8f182e3e-e886-43ed-8fa0-34c1ac817e3e",
   "metadata": {},
   "outputs": [
    {
     "data": {
      "text/plain": [
       "'a'"
      ]
     },
     "execution_count": 165,
     "metadata": {},
     "output_type": "execute_result"
    }
   ],
   "source": [
    "s = letter[2]\n",
    "s"
   ]
  },
  {
   "cell_type": "code",
   "execution_count": null,
   "id": "fe90c565-c932-412d-ae00-2572fe0f6649",
   "metadata": {},
   "outputs": [],
   "source": []
  },
  {
   "cell_type": "code",
   "execution_count": null,
   "id": "c06d689b-92be-41a3-a0b4-d1613b244aa0",
   "metadata": {},
   "outputs": [],
   "source": []
  },
  {
   "cell_type": "code",
   "execution_count": null,
   "id": "84667420-e200-4bab-a57c-5ed47c48ba44",
   "metadata": {},
   "outputs": [],
   "source": []
  }
 ],
 "metadata": {
  "kernelspec": {
   "display_name": "Python 3 (ipykernel)",
   "language": "python",
   "name": "python3"
  },
  "language_info": {
   "codemirror_mode": {
    "name": "ipython",
    "version": 3
   },
   "file_extension": ".py",
   "mimetype": "text/x-python",
   "name": "python",
   "nbconvert_exporter": "python",
   "pygments_lexer": "ipython3",
   "version": "3.7.11"
  }
 },
 "nbformat": 4,
 "nbformat_minor": 5
}
